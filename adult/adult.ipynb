{
  "cells": [
    {
      "cell_type": "markdown",
      "metadata": {
        "id": "t3IO1pNyH_II"
      },
      "source": [
        "# Pre-Modeling: Data Preprocessing and Feature Exploration in Python"
      ]
    },
    {
      "cell_type": "markdown",
      "metadata": {
        "id": "ccUb_H65H_IN"
      },
      "source": [
        "## Goal"
      ]
    },
    {
      "cell_type": "markdown",
      "metadata": {
        "id": "q5EkchdsH_IO"
      },
      "source": [
        "- Goal:\n",
        "    - Pre-modeling/modeling 80%/20% of work\n",
        "    - Show the importance of data preprocessing, feature exploration, and feature engineering on model performace\n",
        "    - Go over a few effective pre-modeling steps\n",
        "    - This is only a small subset of pre-modeling \n",
        "\n",
        "- Format:\n",
        "    - Tutorial style \n",
        "    - Walk through concepts and code (and point out libraries)\n",
        "    - Use an edited version of the 'adult' dataset (to predict income) with the objective of building a binary classification model\n",
        "  \n",
        "  \n",
        "- Python libraries:\n",
        "    - Numpy\n",
        "    - Pandas\n",
        "    - Sci-kit learn\n",
        "    - Matplotlib\n",
        "    - Almost entire workflow is covered by these four libraries\n",
        "\n",
        "Source of 'adult' dataset: https://archive.ics.uci.edu/ml/datasets/Adult"
      ]
    },
    {
      "cell_type": "markdown",
      "metadata": {
        "id": "q3f4Ch4YH_IP"
      },
      "source": [
        "## Agenda"
      ]
    },
    {
      "cell_type": "markdown",
      "metadata": {
        "id": "T7G56RnNH_IP"
      },
      "source": [
        "\n",
        "1. Modeling Overview \n",
        "2. Introduce the Data\n",
        "3. Basic Data Cleaning\n",
        "    1. Dealing with data types\n",
        "    2. Handling missing data\n",
        "4. More Data Exploration\n",
        "    1. Outlier detection\n",
        "    2. Plotting distributions\n",
        "5. Feature Engineering\n",
        "    1. Interactions between features\n",
        "    2. Dimensionality reduction using PCA\n",
        "6. Feature Selection and Model Building"
      ]
    },
    {
      "cell_type": "markdown",
      "metadata": {
        "id": "H2q8N5ddH_IQ"
      },
      "source": [
        "## Part 1: Modeling Overview"
      ]
    },
    {
      "cell_type": "markdown",
      "metadata": {
        "id": "M0H7J-okH_IQ"
      },
      "source": [
        "### Review of predictive modeling"
      ]
    },
    {
      "cell_type": "markdown",
      "metadata": {
        "collapsed": true,
        "id": "Jq47lmcSH_IR"
      },
      "source": [
        "- **Definition**\n",
        "    - Statistical technique to predict unknown outcomes\n",
        "    - Today's example\n",
        "        - Binary classification model - determine the probability that an observation belongs to one of two groups\n",
        "        - Examples:\n",
        "            - Whether a person votes for one of two political candidates\n",
        "            - Whether a credit card transaction is fraud\n",
        "            - Whether or not a person will be diagnosed with a given disease in the next year\n",
        "\n",
        "\n",
        "- **Data terminology**\n",
        "    - Inputs - Independent variables (also called features)\n",
        "        - Predictors\n",
        "    - Outputs - Dependent variable (also called the outcome)\n",
        "        - The target variable for prediction\n",
        "    - Models explain the effect that features have on the outcome\n",
        "        \n",
        "        \n",
        "- **Assessing model performance**\n",
        "    - Randomly split observations into train/test sets\n",
        "    - Build model on train set and assess performance on test set\n",
        "    - AUC of ROC is common performance metric\n",
        "        - True positive vs. false positive rates\n",
        "\n",
        "\n",
        "- **Types of models for binary classification**\n",
        "    - Logistic regression\n",
        "    - Random Forest\n",
        "    - Gradient Boosted Trees\n",
        "    - Support Vector Machines\n",
        "    - Many, many more"
      ]
    },
    {
      "cell_type": "markdown",
      "metadata": {
        "id": "rvWTZRuBH_IR"
      },
      "source": [
        "## Part 2: Introduce the Data\n",
        "\n",
        "Task: Given attributes about a person, predict whether their income is <=50K or >50K"
      ]
    },
    {
      "cell_type": "code",
      "execution_count": 1,
      "metadata": {
        "id": "HSNHmkW4H_IS"
      },
      "outputs": [],
      "source": [
        "# Import data and take a look\n",
        "\n",
        "import numpy as np\n",
        "import pandas as pd\n",
        "\n",
        "df = pd.read_csv('/content/adult.csv', na_values=['#NAME?'])"
      ]
    },
    {
      "cell_type": "code",
      "execution_count": 2,
      "metadata": {
        "colab": {
          "base_uri": "https://localhost:8080/"
        },
        "id": "WoKBW9YLH_IT",
        "outputId": "5cc2ed33-c76b-4a4d-a913-ae9972cc9b91"
      },
      "outputs": [
        {
          "output_type": "stream",
          "name": "stdout",
          "text": [
            "    age         workclass    fnlwgt  education  education_num  \\\n",
            "0  39.0         State-gov   77516.0  Bachelors           13.0   \n",
            "1  50.0  Self-emp-not-inc   83311.0  Bachelors           13.0   \n",
            "2  38.0           Private  215646.0    HS-grad            9.0   \n",
            "3  53.0           Private  234721.0       11th            7.0   \n",
            "4  28.0           Private  338409.0  Bachelors           13.0   \n",
            "\n",
            "       marital_status         occupation   relationship   race     sex  \\\n",
            "0       Never-married       Adm-clerical  Not-in-family  White    Male   \n",
            "1  Married-civ-spouse    Exec-managerial        Husband  White    Male   \n",
            "2            Divorced  Handlers-cleaners  Not-in-family  White    Male   \n",
            "3  Married-civ-spouse  Handlers-cleaners        Husband  Black     NaN   \n",
            "4  Married-civ-spouse     Prof-specialty           Wife  Black  Female   \n",
            "\n",
            "   capital_gain  capital_loss  hours_per_week native_country income  \n",
            "0          2174             0              40  United-States  <=50K  \n",
            "1             0             0              13  United-States  <=50K  \n",
            "2             0             0              40  United-States  <=50K  \n",
            "3             0             0              40  United-States  <=50K  \n",
            "4             0             0              40           Cuba  <=50K  \n"
          ]
        }
      ],
      "source": [
        "print(df.head(5))"
      ]
    },
    {
      "cell_type": "code",
      "execution_count": 3,
      "metadata": {
        "colab": {
          "base_uri": "https://localhost:8080/"
        },
        "id": "dPJRc4pCH_IU",
        "outputId": "ab4a74b1-0fa1-40b4-af29-1e0213590b81"
      },
      "outputs": [
        {
          "output_type": "stream",
          "name": "stdout",
          "text": [
            "<=50K    3779\n",
            ">50K     1221\n",
            "Name: income, dtype: int64\n"
          ]
        }
      ],
      "source": [
        "# Take a look at the outcome variable: 'income'\n",
        "print(df['income'].value_counts())"
      ]
    },
    {
      "cell_type": "code",
      "execution_count": 4,
      "metadata": {
        "colab": {
          "base_uri": "https://localhost:8080/"
        },
        "id": "Cbo0leJUH_IU",
        "outputId": "01d5eb49-a73b-4179-f7b1-d889633b9fde"
      },
      "outputs": [
        {
          "output_type": "stream",
          "name": "stderr",
          "text": [
            "/usr/local/lib/python3.7/dist-packages/ipykernel_launcher.py:5: FutureWarning: In a future version of pandas all arguments of DataFrame.drop except for the argument 'labels' will be keyword-only\n",
            "  \"\"\"\n"
          ]
        }
      ],
      "source": [
        "# Assign outcome as 0 if income <=50K and as 1 if income >50K\n",
        "df['income'] = [0 if x == '<=50K' else 1 for x in df['income']]\n",
        "\n",
        "# Assign X as a DataFrame of features and y as a Series of the outcome variable\n",
        "X = df.drop('income', 1)\n",
        "y = df.income"
      ]
    },
    {
      "cell_type": "code",
      "execution_count": 5,
      "metadata": {
        "colab": {
          "base_uri": "https://localhost:8080/"
        },
        "id": "5hcHQjjqH_IU",
        "outputId": "e5b2db8f-3591-4e5e-ee3e-be5bf2b2eaf9"
      },
      "outputs": [
        {
          "output_type": "stream",
          "name": "stdout",
          "text": [
            "    age         workclass    fnlwgt  education  education_num  \\\n",
            "0  39.0         State-gov   77516.0  Bachelors           13.0   \n",
            "1  50.0  Self-emp-not-inc   83311.0  Bachelors           13.0   \n",
            "2  38.0           Private  215646.0    HS-grad            9.0   \n",
            "3  53.0           Private  234721.0       11th            7.0   \n",
            "4  28.0           Private  338409.0  Bachelors           13.0   \n",
            "\n",
            "       marital_status         occupation   relationship   race     sex  \\\n",
            "0       Never-married       Adm-clerical  Not-in-family  White    Male   \n",
            "1  Married-civ-spouse    Exec-managerial        Husband  White    Male   \n",
            "2            Divorced  Handlers-cleaners  Not-in-family  White    Male   \n",
            "3  Married-civ-spouse  Handlers-cleaners        Husband  Black     NaN   \n",
            "4  Married-civ-spouse     Prof-specialty           Wife  Black  Female   \n",
            "\n",
            "   capital_gain  capital_loss  hours_per_week native_country  \n",
            "0          2174             0              40  United-States  \n",
            "1             0             0              13  United-States  \n",
            "2             0             0              40  United-States  \n",
            "3             0             0              40  United-States  \n",
            "4             0             0              40           Cuba  \n"
          ]
        }
      ],
      "source": [
        "print(X.head(5))"
      ]
    },
    {
      "cell_type": "code",
      "execution_count": 6,
      "metadata": {
        "colab": {
          "base_uri": "https://localhost:8080/"
        },
        "id": "ACFM0s_fH_IU",
        "outputId": "7089dce6-c7e4-45db-8331-15801b9dab4e"
      },
      "outputs": [
        {
          "output_type": "stream",
          "name": "stdout",
          "text": [
            "0    0\n",
            "1    0\n",
            "2    0\n",
            "3    0\n",
            "4    0\n",
            "Name: income, dtype: int64\n"
          ]
        }
      ],
      "source": [
        "print(y.head(5))"
      ]
    },
    {
      "cell_type": "markdown",
      "metadata": {
        "id": "SMICk6d4H_IV"
      },
      "source": [
        "## Part 3: Basic data cleaning"
      ]
    },
    {
      "cell_type": "markdown",
      "metadata": {
        "id": "QOU0s0VKH_IV"
      },
      "source": [
        "### A. Dealing with data types\n",
        "\n",
        "- There are three main data types:\n",
        "    - Numeric, e.g. income, age\n",
        "    - Categorical, e.g. gender, nationality \n",
        "    - Ordinal, e.g. low/medium/high\n",
        "    \n",
        "    \n",
        "- Models can only handle numeric features\n",
        "\n",
        "\n",
        "- Must convert categorical and ordinal features into numeric features\n",
        "    - Create dummy features\n",
        "    - Transform a categorical feature into a set of dummy features, each representing a unique category\n",
        "    - In the set of dummy features, 1 indicates that the observation belongs to that category"
      ]
    },
    {
      "cell_type": "code",
      "execution_count": 7,
      "metadata": {
        "colab": {
          "base_uri": "https://localhost:8080/"
        },
        "id": "WvFETocGH_IV",
        "outputId": "d10d9a50-2613-40fc-9750-d77371ef21f4"
      },
      "outputs": [
        {
          "output_type": "stream",
          "name": "stdout",
          "text": [
            "0    Bachelors\n",
            "1    Bachelors\n",
            "2      HS-grad\n",
            "3         11th\n",
            "4    Bachelors\n",
            "Name: education, dtype: object\n"
          ]
        }
      ],
      "source": [
        "# Education is a categorical feature:\n",
        "print(X['education'].head(5))"
      ]
    },
    {
      "cell_type": "code",
      "execution_count": 8,
      "metadata": {
        "colab": {
          "base_uri": "https://localhost:8080/"
        },
        "id": "XlGSyX-EH_IV",
        "outputId": "5331ad2f-b488-49b5-e64f-639179138355"
      },
      "outputs": [
        {
          "output_type": "stream",
          "name": "stdout",
          "text": [
            "   10th  11th  12th  1st-4th  5th-6th  7th-8th  9th  ?  Assoc-acdm  Assoc-voc  \\\n",
            "0     0     0     0        0        0        0    0  0           0          0   \n",
            "1     0     0     0        0        0        0    0  0           0          0   \n",
            "2     0     0     0        0        0        0    0  0           0          0   \n",
            "3     0     1     0        0        0        0    0  0           0          0   \n",
            "4     0     0     0        0        0        0    0  0           0          0   \n",
            "\n",
            "   Bachelors  Doctorate  HS-grad  Masters  Preschool  Prof-school  \\\n",
            "0          1          0        0        0          0            0   \n",
            "1          1          0        0        0          0            0   \n",
            "2          0          0        1        0          0            0   \n",
            "3          0          0        0        0          0            0   \n",
            "4          1          0        0        0          0            0   \n",
            "\n",
            "   Some-college  \n",
            "0             0  \n",
            "1             0  \n",
            "2             0  \n",
            "3             0  \n",
            "4             0  \n"
          ]
        }
      ],
      "source": [
        "# Use get_dummies in pandas \n",
        "# Another option: OneHotEncoder in sci-kit learn\n",
        "print(pd.get_dummies(X['education']).head(5))"
      ]
    },
    {
      "cell_type": "code",
      "execution_count": 9,
      "metadata": {
        "colab": {
          "base_uri": "https://localhost:8080/"
        },
        "id": "wwYyhEmMH_IW",
        "outputId": "db316155-ee8a-4985-e647-c7978bd5ce7f"
      },
      "outputs": [
        {
          "output_type": "stream",
          "name": "stdout",
          "text": [
            "Feature 'workclass' has 8 unique categories\n",
            "Feature 'education' has 17 unique categories\n",
            "Feature 'marital_status' has 7 unique categories\n",
            "Feature 'occupation' has 15 unique categories\n",
            "Feature 'relationship' has 6 unique categories\n",
            "Feature 'race' has 6 unique categories\n",
            "Feature 'sex' has 3 unique categories\n",
            "Feature 'native_country' has 40 unique categories\n"
          ]
        }
      ],
      "source": [
        "# Decide which categorical variables you want to use in model\n",
        "for col_name in X.columns:\n",
        "    if X[col_name].dtypes == 'object':\n",
        "        unique_cat = len(X[col_name].unique())\n",
        "        print(\"Feature '{col_name}' has {unique_cat} unique categories\".format(col_name=col_name, unique_cat=unique_cat))"
      ]
    },
    {
      "cell_type": "code",
      "execution_count": 10,
      "metadata": {
        "colab": {
          "base_uri": "https://localhost:8080/"
        },
        "id": "Ojl7EqAhH_IW",
        "outputId": "8051a4d5-4540-4222-a04f-17e25b55281e"
      },
      "outputs": [
        {
          "output_type": "stream",
          "name": "stdout",
          "text": [
            "United-States    4465\n",
            "Mexico            104\n",
            "?                  97\n",
            "Canada             28\n",
            "Philippines        22\n",
            "Germany            22\n",
            "El-Salvador        16\n",
            "Puerto-Rico        16\n",
            "England            16\n",
            "China              15\n",
            "Name: native_country, dtype: int64\n"
          ]
        }
      ],
      "source": [
        "# Although, 'native_country' has a lot of unique categories, most categories only have a few observations\n",
        "print(X['native_country'].value_counts().sort_values(ascending=False).head(10))"
      ]
    },
    {
      "cell_type": "code",
      "execution_count": 11,
      "metadata": {
        "colab": {
          "base_uri": "https://localhost:8080/"
        },
        "id": "TYRHjWVdH_IW",
        "outputId": "4c24748b-5687-474a-e749-edb74455f008"
      },
      "outputs": [
        {
          "output_type": "stream",
          "name": "stdout",
          "text": [
            "United-States     4465\n",
            "Other              535\n",
            "Name: native_country, dtype: int64\n"
          ]
        }
      ],
      "source": [
        "# In this case, bucket low frequecy categories as \"Other\"\n",
        "X['native_country'] = ['United-States ' if x == 'United-States' else 'Other' for x in X['native_country']]\n",
        "\n",
        "print(X['native_country'].value_counts().sort_values(ascending=False))"
      ]
    },
    {
      "cell_type": "code",
      "execution_count": 12,
      "metadata": {
        "collapsed": true,
        "id": "CAI9Nd_-H_IX"
      },
      "outputs": [],
      "source": [
        "# Create a list of features to dummy\n",
        "todummy_list = ['workclass', 'education', 'marital_status', 'occupation', 'relationship', 'race', 'sex', 'native_country']"
      ]
    },
    {
      "cell_type": "code",
      "execution_count": 13,
      "metadata": {
        "id": "YlMq4tDTH_IX"
      },
      "outputs": [],
      "source": [
        "# Function to dummy all the categorical variables used for modeling\n",
        "def dummy_df(df, todummy_list):\n",
        "    for x in todummy_list:\n",
        "        dummies = pd.get_dummies(df[x], prefix=x, dummy_na=False)\n",
        "        df = df.drop(x, 1)\n",
        "        df = pd.concat([df, dummies], axis=1)\n",
        "    return df"
      ]
    },
    {
      "cell_type": "code",
      "execution_count": 14,
      "metadata": {
        "colab": {
          "base_uri": "https://localhost:8080/"
        },
        "id": "q-1fplIlH_IX",
        "outputId": "da9ea5d5-5a2a-42ba-ab26-b0ebe34eb472"
      },
      "outputs": [
        {
          "output_type": "stream",
          "name": "stderr",
          "text": [
            "/usr/local/lib/python3.7/dist-packages/ipykernel_launcher.py:5: FutureWarning: In a future version of pandas all arguments of DataFrame.drop except for the argument 'labels' will be keyword-only\n",
            "  \"\"\"\n"
          ]
        },
        {
          "output_type": "stream",
          "name": "stdout",
          "text": [
            "    age    fnlwgt  education_num  capital_gain  capital_loss  hours_per_week  \\\n",
            "0  39.0   77516.0           13.0          2174             0              40   \n",
            "1  50.0   83311.0           13.0             0             0              13   \n",
            "2  38.0  215646.0            9.0             0             0              40   \n",
            "3  53.0  234721.0            7.0             0             0              40   \n",
            "4  28.0  338409.0           13.0             0             0              40   \n",
            "\n",
            "   workclass_?  workclass_Federal-gov  workclass_Local-gov  workclass_Private  \\\n",
            "0            0                      0                    0                  0   \n",
            "1            0                      0                    0                  0   \n",
            "2            0                      0                    0                  1   \n",
            "3            0                      0                    0                  1   \n",
            "4            0                      0                    0                  1   \n",
            "\n",
            "   ...  relationship_Wife  race_Amer-Indian-Eskimo  race_Asian-Pac-Islander  \\\n",
            "0  ...                  0                        0                        0   \n",
            "1  ...                  0                        0                        0   \n",
            "2  ...                  0                        0                        0   \n",
            "3  ...                  0                        0                        0   \n",
            "4  ...                  1                        0                        0   \n",
            "\n",
            "   race_Black  race_Other  race_White  sex_Female  sex_Male  \\\n",
            "0           0           0           1           0         1   \n",
            "1           0           0           1           0         1   \n",
            "2           0           0           1           0         1   \n",
            "3           1           0           0           0         0   \n",
            "4           1           0           0           1         0   \n",
            "\n",
            "   native_country_Other  native_country_United-States   \n",
            "0                     0                              1  \n",
            "1                     0                              1  \n",
            "2                     0                              1  \n",
            "3                     0                              1  \n",
            "4                     1                              0  \n",
            "\n",
            "[5 rows x 68 columns]\n"
          ]
        }
      ],
      "source": [
        "X = dummy_df(X, todummy_list)\n",
        "print(X.head(5))"
      ]
    },
    {
      "cell_type": "markdown",
      "metadata": {
        "id": "3x1csUpuH_IY"
      },
      "source": [
        "### B. Handling missing data\n",
        "\n",
        "- Models can not handle missing data\n",
        "\n",
        "\n",
        "- Simplest solution\n",
        "    - Remove observations/features that have missing data\n",
        "    \n",
        "\n",
        "- But, removing missing data can introduce a lot of issues\n",
        "    - Data is randomly missing: potentially lose a lot of your data\n",
        "    - Data is non-randomly missing: in addition to losing data, you are also introducing potential biases\n",
        "    - Usually, this is a poor solution\n",
        "\n",
        "\n",
        "- An alternative solution is to use imputation\n",
        "    - Replace missing value with another value\n",
        "    - Strategies: mean, median, highest frequency value of given feature"
      ]
    },
    {
      "cell_type": "code",
      "execution_count": 15,
      "metadata": {
        "colab": {
          "base_uri": "https://localhost:8080/"
        },
        "id": "6kaKLhgkH_IY",
        "outputId": "80e1e4ea-4914-40f4-de96-c168a51a5b20"
      },
      "outputs": [
        {
          "output_type": "execute_result",
          "data": {
            "text/plain": [
              "fnlwgt                  107\n",
              "education_num            57\n",
              "age                      48\n",
              "native_country_Other      0\n",
              "sex_Male                  0\n",
              "dtype: int64"
            ]
          },
          "metadata": {},
          "execution_count": 15
        }
      ],
      "source": [
        "# How much of your data is missing?\n",
        "X.isnull().sum().sort_values(ascending=False).head()"
      ]
    },
    {
      "cell_type": "code",
      "source": [
        "import missingno as msno\n",
        "msno.matrix(df)"
      ],
      "metadata": {
        "colab": {
          "base_uri": "https://localhost:8080/",
          "height": 545
        },
        "id": "Vt-QlRTI5HCV",
        "outputId": "44d6bac0-868d-4f29-da7a-b132f7c162a6"
      },
      "execution_count": 52,
      "outputs": [
        {
          "output_type": "execute_result",
          "data": {
            "text/plain": [
              "<matplotlib.axes._subplots.AxesSubplot at 0x7f7be7f73690>"
            ]
          },
          "metadata": {},
          "execution_count": 52
        },
        {
          "output_type": "display_data",
          "data": {
            "text/plain": [
              "<Figure size 1800x720 with 2 Axes>"
            ],
            "image/png": "[encoded data removed]"
          },
          "metadata": {
            "needs_background": "light"
          }
        }
      ]
    },
    {
      "cell_type": "code",
      "execution_count": 16,
      "metadata": {
        "id": "xxf9heugH_IY"
      },
      "outputs": [],
      "source": [
        "# Impute missing values using Imputer in sklearn.preprocessing\n",
        "#////////////////////////////////////////////////////////////\n",
        "from sklearn.impute import SimpleImputer\n",
        "imp = SimpleImputer(missing_values=np.nan, strategy='median')\n",
        "imp.fit(X)\n",
        "X = pd.DataFrame(data=imp.transform(X) , columns=X.columns)"
      ]
    },
    {
      "cell_type": "code",
      "execution_count": 17,
      "metadata": {
        "colab": {
          "base_uri": "https://localhost:8080/"
        },
        "id": "c30Vo5rMH_IY",
        "outputId": "ab36f544-c57c-43a6-dffd-0245fd086182"
      },
      "outputs": [
        {
          "output_type": "execute_result",
          "data": {
            "text/plain": [
              "age                              0\n",
              "occupation_Farming-fishing       0\n",
              "occupation_Protective-serv       0\n",
              "occupation_Prof-specialty        0\n",
              "occupation_Priv-house-serv       0\n",
              "                                ..\n",
              "education_Preschool              0\n",
              "education_Prof-school            0\n",
              "education_Some-college           0\n",
              "marital_status_Divorced          0\n",
              "native_country_United-States     0\n",
              "Length: 68, dtype: int64"
            ]
          },
          "metadata": {},
          "execution_count": 17
        }
      ],
      "source": [
        "# Now check again to see if you still have missing data\n",
        "X.isnull().sum().sort_values(ascending=False)"
      ]
    },
    {
      "cell_type": "markdown",
      "metadata": {
        "id": "EEMFygdwH_IY"
      },
      "source": [
        "## Part 4: More Data Exploration\n",
        "\n",
        "- A large portion of the pre-modeling and modeling workflow can be generalized and automated\n",
        "\n",
        "\n",
        "- But understanding the problem, domain, and data is extremely important for building high performing models\n",
        "\n",
        "\n",
        "- This section covers some tools used for exploring your data to make smarter decisions"
      ]
    },
    {
      "cell_type": "markdown",
      "metadata": {
        "id": "ru5nK9DvH_IY"
      },
      "source": [
        "### A. Outlier detection\n",
        "\n",
        "- An outlier is an observation that deviates drastically from other observations in a dataset\n",
        "\n",
        "\n",
        "- Occurrence:\n",
        "    - Natural, e.g. Mark Zuckerberg's income\n",
        "    - Error, e.g. human weight of 2,000 lb. due to mistyping extra 0\n",
        "\n",
        "\n",
        "- Why are they problematic?\n",
        "    - Naturally occuring:\n",
        "        - Not necessarily problematic\n",
        "        - But can skew your model by affecting the slope (see image below)\n",
        "    - Error \n",
        "        - Indicative of data quality issues\n",
        "        - Treat in the same way as a missing value, i.e. use imputation\n",
        "   \n",
        "   \n",
        "- Many, many approaches for detecting outliers; we will discuss two of these:\n",
        "    - Tukey IQR\n",
        "    - Kernel density estimatation"
      ]
    },
    {
      "cell_type": "code",
      "execution_count": 18,
      "metadata": {
        "colab": {
          "base_uri": "https://localhost:8080/",
          "height": 417
        },
        "id": "v8b67fLcH_IZ",
        "outputId": "86238fcb-0188-4422-f284-d22e876f64f5"
      },
      "outputs": [
        {
          "output_type": "execute_result",
          "data": {
            "text/plain": [
              "<IPython.core.display.Image object>"
            ],
            "image/jpeg": "[encoded data removed]"
          },
          "metadata": {},
          "execution_count": 18
        }
      ],
      "source": [
        "from IPython.display import Image\n",
        "Image(filename='/content/outliers.jpg')"
      ]
    },
    {
      "cell_type": "markdown",
      "metadata": {
        "id": "LU0HxYTKH_IZ"
      },
      "source": [
        "### Outlier detection - Tukey IQR\n",
        "- Identifies extreme values in data\n",
        "\n",
        "\n",
        "- Outliers are defined as:\n",
        "    - Values below Q1-1.5(Q3-Q1) or above Q3+1.5(Q3-Q1)\n",
        " \n",
        " \n",
        "- Standard deviation from the mean is another common method to detect extreme values\n",
        "    - But it can be problematic:\n",
        "        - Assumes normality \n",
        "        - Sensitive to very extreme values"
      ]
    },
    {
      "cell_type": "code",
      "execution_count": 19,
      "metadata": {
        "colab": {
          "base_uri": "https://localhost:8080/",
          "height": 405
        },
        "id": "gIRj6lC-H_IZ",
        "outputId": "b18ae77f-8462-469a-da7d-6e803c80d446"
      },
      "outputs": [
        {
          "output_type": "execute_result",
          "data": {
            "text/plain": [
              "<IPython.core.display.Image object>"
            ],
            "image/jpeg": "[encoded data removed]"
          },
          "metadata": {},
          "execution_count": 19
        }
      ],
      "source": [
        "from IPython.display import Image\n",
        "Image(filename='/content/tukeyiqr.jpg')\n",
        "# Imagine taken from: \n",
        "# http://datapigtechnologies.com/blog/index.php/highlighting-outliers-in-your-data-with-the-tukey-method/"
      ]
    },
    {
      "cell_type": "code",
      "execution_count": 20,
      "metadata": {
        "id": "HZ-pt0GvH_IZ"
      },
      "outputs": [],
      "source": [
        "def find_outliers_tukey(x):\n",
        "    q1 = np.percentile(x, 25)\n",
        "    q3 = np.percentile(x, 75)\n",
        "    iqr = q3-q1 \n",
        "    floor = q1 - 1.5*iqr\n",
        "    ceiling = q3 + 1.5*iqr\n",
        "    outlier_indices = list(x.index[(x < floor)|(x > ceiling)])\n",
        "    outlier_values = list(x[outlier_indices])\n",
        "\n",
        "    return outlier_indices, outlier_values"
      ]
    },
    {
      "cell_type": "code",
      "execution_count": 21,
      "metadata": {
        "colab": {
          "base_uri": "https://localhost:8080/"
        },
        "id": "R6LtuvA5H_Ia",
        "outputId": "1e64926c-33f9-4819-a4f6-1fe3064e0569"
      },
      "outputs": [
        {
          "output_type": "stream",
          "name": "stdout",
          "text": [
            "[76. 76. 76. 76. 76. 76. 76. 76. 76. 77. 77. 77. 77. 77. 78. 78. 79. 79.\n",
            " 79. 80. 80. 80. 81. 81. 81. 81. 82. 88. 90. 90. 90. 90. 90. 90. 90.]\n"
          ]
        }
      ],
      "source": [
        "tukey_indices, tukey_values = find_outliers_tukey(X['age'])\n",
        "print(np.sort(tukey_values))"
      ]
    },
    {
      "cell_type": "markdown",
      "metadata": {
        "id": "OmylCpwhH_Ia"
      },
      "source": [
        "### Outlier detection - Kernel Density Estimation\n",
        "- Non-parametric way to estimate the probability density function of a given feature\n",
        "\n",
        "\n",
        "- Can be advantageous compared to extreme value detection (e.g. Tukey IQR)\n",
        "    - Capures outliers in bimodal distributions"
      ]
    },
    {
      "cell_type": "code",
      "execution_count": 22,
      "metadata": {
        "id": "60JO2OaHH_Ia",
        "colab": {
          "base_uri": "https://localhost:8080/"
        },
        "outputId": "d966fb1c-e146-4600-d97a-0952a5039789"
      },
      "outputs": [
        {
          "output_type": "stream",
          "name": "stderr",
          "text": [
            "/usr/local/lib/python3.7/dist-packages/statsmodels/tools/_testing.py:19: FutureWarning: pandas.util.testing is deprecated. Use the functions in the public API at pandas.testing instead.\n",
            "  import pandas.util.testing as tm\n"
          ]
        }
      ],
      "source": [
        "from sklearn.preprocessing import scale\n",
        "from statsmodels.nonparametric.kde import KDEUnivariate\n",
        "\n",
        "def find_outliers_kde(x):\n",
        "    x_scaled = scale(list(map(float, x)))\n",
        "    kde = KDEUnivariate(x_scaled)\n",
        "    kde.fit(bw=\"scott\", fft=True)\n",
        "    pred = kde.evaluate(x_scaled)\n",
        "    \n",
        "    n = sum(pred < 0.05)\n",
        "    outlier_ind = np.asarray(pred).argsort()[:n]\n",
        "    outlier_value = np.asarray(x)[outlier_ind]\n",
        "\n",
        "    return outlier_ind, outlier_value"
      ]
    },
    {
      "cell_type": "code",
      "execution_count": 23,
      "metadata": {
        "colab": {
          "base_uri": "https://localhost:8080/"
        },
        "id": "lZ4XCwETH_Ia",
        "outputId": "1c1ebdfb-bc62-4c4f-bf1c-658c1f029fca"
      },
      "outputs": [
        {
          "output_type": "stream",
          "name": "stdout",
          "text": [
            "[68. 68. 68. 68. 68. 68. 68. 68. 68. 68. 68. 68. 68. 68. 68. 68. 68. 68.\n",
            " 69. 69. 69. 69. 69. 69. 69. 69. 69. 69. 69. 69. 70. 70. 70. 70. 70. 70.\n",
            " 70. 70. 70. 70. 71. 71. 71. 71. 71. 71. 71. 71. 71. 71. 72. 72. 72. 72.\n",
            " 72. 72. 72. 72. 72. 72. 72. 72. 73. 73. 73. 73. 73. 73. 73. 74. 74. 74.\n",
            " 74. 74. 74. 74. 74. 74. 74. 75. 75. 75. 75. 75. 75. 75. 75. 75. 75. 75.\n",
            " 75. 76. 76. 76. 76. 76. 76. 76. 76. 76. 77. 77. 77. 77. 77. 78. 78. 79.\n",
            " 79. 79. 80. 80. 80. 81. 81. 81. 81. 82. 88. 90. 90. 90. 90. 90. 90. 90.]\n"
          ]
        }
      ],
      "source": [
        "kde_indices, kde_values = find_outliers_kde(X['age'])\n",
        "print(np.sort(kde_values))"
      ]
    },
    {
      "cell_type": "code",
      "source": [
        "#Visualization Before Cleaning Outlier\n",
        "def boxplot_for_outlier(df,columns):\n",
        "  for col in columns:\n",
        "    fig, ax =plt.subplots(figsize=(7,5))\n",
        "    sns.boxplot(x = df[col], palette=\"Set2\")\n",
        "boxplot_for_outlier(X,[\"age\"])"
      ],
      "metadata": {
        "colab": {
          "base_uri": "https://localhost:8080/",
          "height": 334
        },
        "id": "Hsr9k2u69wIT",
        "outputId": "f1ab4bd0-277a-4008-9fab-2ed9ff31f0f3"
      },
      "execution_count": 53,
      "outputs": [
        {
          "output_type": "display_data",
          "data": {
            "text/plain": [
              "<Figure size 504x360 with 1 Axes>"
            ],
            "image/png": "[encoded data removed]"
          },
          "metadata": {
            "needs_background": "light"
          }
        }
      ]
    },
    {
      "cell_type": "code",
      "source": [
        "#Cleaning Outlier\n",
        "def outliers_detection(df,columns):\n",
        "  for col in columns:\n",
        "    q1=df[col].describe()[4]\n",
        "    q3=df[col].describe()[6]\n",
        "    iqr=q3-q1\n",
        "    lowerbound = q1 - (1.5 * iqr)\n",
        "    upperbound = q3 + (1.5 * iqr)\n",
        "    number_of_outlier = df.loc[(df.loc[:,col]<lowerbound)| (df.loc[:,col]>upperbound)].shape[0]\n",
        "    if(number_of_outlier>0):\n",
        "      print(number_of_outlier,\" outlier values cleared in\" ,col)\n",
        "      df.loc[(df.loc[:,col]<lowerbound),col] =  lowerbound*0.75\n",
        "      df.loc[(df.loc[:,col]>upperbound),col] =  upperbound*1.25"
      ],
      "metadata": {
        "id": "OfONwKYV-Lxp"
      },
      "execution_count": 55,
      "outputs": []
    },
    {
      "cell_type": "code",
      "source": [
        "data_outliers=df.copy()\n",
        "outliers_detection(data_outliers,[\"age\"])"
      ],
      "metadata": {
        "colab": {
          "base_uri": "https://localhost:8080/"
        },
        "id": "UiP7EvbS-WgC",
        "outputId": "e22ba7b7-ae00-4190-d5c4-c25cc19d05be"
      },
      "execution_count": 56,
      "outputs": [
        {
          "output_type": "stream",
          "name": "stdout",
          "text": [
            "35  outlier values cleared in age\n"
          ]
        }
      ]
    },
    {
      "cell_type": "code",
      "source": [
        "#Visualization After cleaning outlier.¶\n",
        "boxplot_for_outlier(data_outliers,[\"age\"])"
      ],
      "metadata": {
        "colab": {
          "base_uri": "https://localhost:8080/",
          "height": 334
        },
        "id": "skbZ_jPf-erR",
        "outputId": "ec923c65-30a2-499d-f7ad-e1714eab28ec"
      },
      "execution_count": 57,
      "outputs": [
        {
          "output_type": "display_data",
          "data": {
            "text/plain": [
              "<Figure size 504x360 with 1 Axes>"
            ],
            "image/png": "[encoded data removed]"
          },
          "metadata": {
            "needs_background": "light"
          }
        }
      ]
    },
    {
      "cell_type": "markdown",
      "metadata": {
        "id": "Fi3CuUa6H_Ia"
      },
      "source": [
        "### B. Distribution of Features\n",
        "\n",
        "- A histogram is a simple representation of the distribution of values for a given feature\n",
        "\n",
        "\n",
        "- X-axis represents value bins and y-axis represents the frequency of an observation falling into that bin\n",
        "\n",
        "\n",
        "- It is also interesting to look at distributions broken up by outcome categories"
      ]
    },
    {
      "cell_type": "code",
      "execution_count": 24,
      "metadata": {
        "id": "jgkv0wmzH_Ia"
      },
      "outputs": [],
      "source": [
        "# Use pyplot in matplotlib to plot histograms\n",
        "%matplotlib inline\n",
        "import matplotlib.pyplot as plt\n",
        "\n",
        "def plot_histogram(x):\n",
        "    plt.hist(x, color='gray', alpha=0.5)\n",
        "    plt.title(\"Histogram of '{var_name}'\".format(var_name=x.name))\n",
        "    plt.xlabel(\"Value\")\n",
        "    plt.ylabel(\"Frequency\")\n",
        "    plt.show()"
      ]
    },
    {
      "cell_type": "code",
      "execution_count": 25,
      "metadata": {
        "colab": {
          "base_uri": "https://localhost:8080/",
          "height": 295
        },
        "id": "dz7QbIOvH_Ib",
        "outputId": "0234ef90-f7de-4cfa-b465-d88a01697bca"
      },
      "outputs": [
        {
          "output_type": "display_data",
          "data": {
            "text/plain": [
              "<Figure size 432x288 with 1 Axes>"
            ],
            "image/png": "[encoded data removed]"
          },
          "metadata": {
            "needs_background": "light"
          }
        }
      ],
      "source": [
        "plot_histogram(X['age'])"
      ]
    },
    {
      "cell_type": "code",
      "execution_count": 26,
      "metadata": {
        "id": "do6D2sCWH_Ib"
      },
      "outputs": [],
      "source": [
        "# Plot histograms to show distribution of features by outcome categories\n",
        "def plot_histogram_dv(x,y):\n",
        "    plt.hist(list(x[y==0]), alpha=0.5, label='Outcome=0')\n",
        "    plt.hist(list(x[y==1]), alpha=0.5, label='Outcome=1')\n",
        "    plt.title(\"Histogram of '{var_name}' by Outcome Category\".format(var_name=x.name))\n",
        "    plt.xlabel(\"Value\")\n",
        "    plt.ylabel(\"Frequency\")\n",
        "    plt.legend(loc='upper right')\n",
        "    plt.show()"
      ]
    },
    {
      "cell_type": "code",
      "execution_count": 27,
      "metadata": {
        "colab": {
          "base_uri": "https://localhost:8080/",
          "height": 295
        },
        "id": "-Njva1PaH_Ib",
        "outputId": "c21783d0-1cf2-4bd1-b713-1c2095475e48"
      },
      "outputs": [
        {
          "output_type": "display_data",
          "data": {
            "text/plain": [
              "<Figure size 432x288 with 1 Axes>"
            ],
            "image/png": "[encoded data removed]"
          },
          "metadata": {
            "needs_background": "light"
          }
        }
      ],
      "source": [
        "plot_histogram_dv(X['age'], y)"
      ]
    },
    {
      "cell_type": "markdown",
      "metadata": {
        "id": "nuajos6YH_Ib"
      },
      "source": [
        "## Part 5: Feature Engineering"
      ]
    },
    {
      "cell_type": "markdown",
      "metadata": {
        "id": "neR8XXueH_Ib"
      },
      "source": [
        "### A. Interactions amongst features\n",
        "- A simple two-way interaction is represented by: \n",
        "    - X3 = X1 * X2, where X3 is the interaction between X1 and X2\n",
        "\n",
        "\n",
        "- Can add interaction terms as additional new features to your model; useful for model if the impact of two or more features on the outcome is non-additive\n",
        "\n",
        "\n",
        "- Example: \n",
        "    - Interaction: education and political ideology; outcome: concerns about climate change\n",
        "    - While an increase in education amongst liberals or moderates increases concerns about climate change, an increase in education amongst conservatives has the opposite effect\n",
        "    - The education-political ideology interaction captures more than the two features alone\n",
        "\n",
        "\n",
        "- Note that the interactions amongst dummy variables belonging to the same categorical feature are always zero\n",
        "\n",
        "\n",
        "- Although it is very easy to calculate two-way interactions amongst all features, it is very computationally expensive\n",
        "    - 10 features = 45 two-way interaction terms\n",
        "    - 50 features = 1,225 two-way interaction terms\n",
        "    - 100 features = 4,950 two-way interaction terms\n",
        "    - 500 features = 124,750 two-way interation terms\n",
        "    - Recommend understanding your data and domain if possible and selectively choosing interaction terms"
      ]
    },
    {
      "cell_type": "code",
      "execution_count": 28,
      "metadata": {
        "id": "5W1YUaELH_Ib"
      },
      "outputs": [],
      "source": [
        "# from IPython.display import Image\n",
        "# Image(filename='/content/interactions.jpg')"
      ]
    },
    {
      "cell_type": "code",
      "execution_count": 29,
      "metadata": {
        "collapsed": true,
        "id": "rW_rJUfDH_Ib"
      },
      "outputs": [],
      "source": [
        "# Use PolynomialFeatures in sklearn.preprocessing to create two-way interactions for all features\n",
        "from itertools import combinations\n",
        "from sklearn.preprocessing import PolynomialFeatures\n",
        "\n",
        "def add_interactions(df):\n",
        "    # Get feature names\n",
        "    combos = list(combinations(list(df.columns), 2))\n",
        "    colnames = list(df.columns) + ['_'.join(x) for x in combos]\n",
        "    \n",
        "    # Find interactions\n",
        "    poly = PolynomialFeatures(interaction_only=True, include_bias=False)\n",
        "    df = poly.fit_transform(df)\n",
        "    df = pd.DataFrame(df)\n",
        "    df.columns = colnames\n",
        "    \n",
        "    # Remove interaction terms with all 0 values            \n",
        "    noint_indicies = [i for i, x in enumerate(list((df == 0).all())) if x]\n",
        "    df = df.drop(df.columns[noint_indicies], axis=1)\n",
        "    \n",
        "    return df"
      ]
    },
    {
      "cell_type": "code",
      "execution_count": 30,
      "metadata": {
        "colab": {
          "base_uri": "https://localhost:8080/"
        },
        "id": "4U_DgoFmH_Ic",
        "outputId": "92032032-00fe-4b81-b28c-c014138198a0"
      },
      "outputs": [
        {
          "output_type": "stream",
          "name": "stdout",
          "text": [
            "    age    fnlwgt  education_num  capital_gain  capital_loss  hours_per_week  \\\n",
            "0  39.0   77516.0           13.0        2174.0           0.0            40.0   \n",
            "1  50.0   83311.0           13.0           0.0           0.0            13.0   \n",
            "2  38.0  215646.0            9.0           0.0           0.0            40.0   \n",
            "3  53.0  234721.0            7.0           0.0           0.0            40.0   \n",
            "4  28.0  338409.0           13.0           0.0           0.0            40.0   \n",
            "\n",
            "   workclass_?  workclass_Federal-gov  workclass_Local-gov  workclass_Private  \\\n",
            "0          0.0                    0.0                  0.0                0.0   \n",
            "1          0.0                    0.0                  0.0                0.0   \n",
            "2          0.0                    0.0                  0.0                1.0   \n",
            "3          0.0                    0.0                  0.0                1.0   \n",
            "4          0.0                    0.0                  0.0                1.0   \n",
            "\n",
            "   ...  race_Other_native_country_Other  \\\n",
            "0  ...                              0.0   \n",
            "1  ...                              0.0   \n",
            "2  ...                              0.0   \n",
            "3  ...                              0.0   \n",
            "4  ...                              0.0   \n",
            "\n",
            "   race_Other_native_country_United-States   race_White_sex_Female  \\\n",
            "0                                       0.0                    0.0   \n",
            "1                                       0.0                    0.0   \n",
            "2                                       0.0                    0.0   \n",
            "3                                       0.0                    0.0   \n",
            "4                                       0.0                    0.0   \n",
            "\n",
            "   race_White_sex_Male  race_White_native_country_Other  \\\n",
            "0                  1.0                              0.0   \n",
            "1                  1.0                              0.0   \n",
            "2                  1.0                              0.0   \n",
            "3                  0.0                              0.0   \n",
            "4                  0.0                              0.0   \n",
            "\n",
            "   race_White_native_country_United-States   sex_Female_native_country_Other  \\\n",
            "0                                       1.0                              0.0   \n",
            "1                                       1.0                              0.0   \n",
            "2                                       1.0                              0.0   \n",
            "3                                       0.0                              0.0   \n",
            "4                                       0.0                              1.0   \n",
            "\n",
            "   sex_Female_native_country_United-States   sex_Male_native_country_Other  \\\n",
            "0                                       0.0                            0.0   \n",
            "1                                       0.0                            0.0   \n",
            "2                                       0.0                            0.0   \n",
            "3                                       0.0                            0.0   \n",
            "4                                       0.0                            0.0   \n",
            "\n",
            "   sex_Male_native_country_United-States   \n",
            "0                                     1.0  \n",
            "1                                     1.0  \n",
            "2                                     1.0  \n",
            "3                                     0.0  \n",
            "4                                     0.0  \n",
            "\n",
            "[5 rows x 1737 columns]\n"
          ]
        }
      ],
      "source": [
        "X = add_interactions(X)\n",
        "print(X.head(5))"
      ]
    },
    {
      "cell_type": "markdown",
      "metadata": {
        "id": "57WIZ6RlH_Ic"
      },
      "source": [
        "### B. Dimensionality reduction using PCA\n",
        "- Principal component analysis (PCA) is a technique that transforms a dataset of many features into principal components that \"summarize\" the variance that underlies the data\n",
        "\n",
        "\n",
        "- Each principal component is calculated by finding the linear combination of features that maximizes variance, while also ensuring zero correlation with the previously calculated principal components \n",
        "\n",
        "\n",
        "- Use cases for modeling:\n",
        "    - One of the most common dimensionality reduction techniques\n",
        "    - Use if there are too many features or if observation/feature ratio is poor\n",
        "    - Also, potentially good option if there are a lot of highly correlated variables in your dataset\n",
        "\n",
        "\n",
        "- Unfortunately, PCA makes models a lot harder to interpret"
      ]
    },
    {
      "cell_type": "code",
      "execution_count": 31,
      "metadata": {
        "id": "EhIsk24LH_Ic"
      },
      "outputs": [],
      "source": [
        "# from IPython.display import Image\n",
        "# Image(filename='/content/pca.jpg')\n",
        "# # Imagine taken from: \n",
        "# # http://www.mathworks.com/help/stats/quality-of-life-in-u-s-cities.html?requestedDomain=www.mathworks.com"
      ]
    },
    {
      "cell_type": "code",
      "execution_count": 32,
      "metadata": {
        "id": "fZWXNXoGH_Ic"
      },
      "outputs": [],
      "source": [
        "# Use PCA from sklearn.decompostion to find principal components\n",
        "from sklearn.decomposition import PCA\n",
        "\n",
        "pca = PCA(n_components=10)\n",
        "X_pca = pd.DataFrame(pca.fit_transform(X))"
      ]
    },
    {
      "cell_type": "code",
      "execution_count": 33,
      "metadata": {
        "colab": {
          "base_uri": "https://localhost:8080/"
        },
        "id": "Ep2HxRfFH_Ic",
        "outputId": "bfa28637-6f53-4053-da35-6cb1a225d932"
      },
      "outputs": [
        {
          "output_type": "stream",
          "name": "stdout",
          "text": [
            "              0             1             2             3             4  \\\n",
            "0 -2.849607e+07 -1.778542e+07 -6.151562e+06  4.267630e+04 -6.416500e+04   \n",
            "1 -1.970160e+08 -1.805201e+07 -6.763008e+06  2.240802e+06 -3.338928e+05   \n",
            "2 -1.970126e+08 -1.797630e+07  1.546966e+06  8.187336e+04  1.487265e+05   \n",
            "3 -1.970113e+08 -1.794623e+07  4.905983e+06  2.710393e+06  8.618040e+05   \n",
            "4 -1.970106e+08 -1.793149e+07  6.335358e+06 -2.382846e+06 -1.512602e+06   \n",
            "\n",
            "              5              6              7              8              9  \n",
            "0  50038.208417   -1746.459466  -23293.134651   98989.997121   -9729.825234  \n",
            "1 -20805.391602 -146910.234758  -37857.159149   38950.607425   -4372.115140  \n",
            "2 -17880.128455   93217.468941  113017.178949    3767.471712  -52147.827263  \n",
            "3 -14121.197790  -55097.907230  -46072.908750  -55349.837077 -155764.107889  \n",
            "4  45442.435828  -23203.244082 -463359.751100 -193048.383974    1734.749184  \n"
          ]
        }
      ],
      "source": [
        "print(X_pca.head(5))"
      ]
    },
    {
      "cell_type": "markdown",
      "metadata": {
        "id": "6U2ZiX-RH_Ic"
      },
      "source": [
        "## Part 6: Feature selection and model building"
      ]
    },
    {
      "cell_type": "markdown",
      "metadata": {
        "id": "6b5XiyJ6H_Ic"
      },
      "source": [
        "### Build model using processed data"
      ]
    },
    {
      "cell_type": "code",
      "execution_count": 34,
      "metadata": {
        "id": "tj2DROFmSiWL"
      },
      "outputs": [],
      "source": [
        "# !pip install -U scikit-learn\n"
      ]
    },
    {
      "cell_type": "code",
      "execution_count": 35,
      "metadata": {
        "collapsed": true,
        "id": "94d2eTGeH_Ic"
      },
      "outputs": [],
      "source": [
        "# Use train_test_split in sklearn.cross_validation to split data into train and test sets\n",
        "#////////////////////////////////////////////////////////////////////////////////////////\n",
        "from sklearn.model_selection import train_test_split\n",
        "X_train, X_test, y_train, y_test = train_test_split(X, y, train_size=0.70, random_state=1)"
      ]
    },
    {
      "cell_type": "code",
      "execution_count": 36,
      "metadata": {
        "colab": {
          "base_uri": "https://localhost:8080/"
        },
        "id": "wDnB14KjH_Ic",
        "outputId": "068f722b-e62c-4c43-b245-47b8a09737f2"
      },
      "outputs": [
        {
          "output_type": "stream",
          "name": "stdout",
          "text": [
            "(5000, 15)\n",
            "(5000, 1737)\n"
          ]
        }
      ],
      "source": [
        "# The total number of features have grown substantially after dummying and adding interaction terms\n",
        "print(df.shape)\n",
        "print(X.shape)"
      ]
    },
    {
      "cell_type": "code",
      "execution_count": 37,
      "metadata": {
        "colab": {
          "base_uri": "https://localhost:8080/"
        },
        "id": "M388p1m8H_Id",
        "outputId": "d0e26fc5-2912-4738-a6bc-213544040606"
      },
      "outputs": [
        {
          "output_type": "stream",
          "name": "stderr",
          "text": [
            "/usr/local/lib/python3.7/dist-packages/sklearn/feature_selection/_univariate_selection.py:112: UserWarning: Features [ 350  361  367  458  482  494  535  538  552  625  626  654  663  673\n",
            "  718  750  753  782  812  815  835  857  866  875  879  893  903  985\n",
            "  998 1001 1004 1012 1014 1071 1074 1118 1128 1209 1210 1212 1248 1263\n",
            " 1311 1313 1314 1316 1318 1329 1353 1362 1370 1408 1444 1526 1527 1542\n",
            " 1581 1609 1612 1704] are constant.\n",
            "  warnings.warn(\"Features %s are constant.\" % constant_features_idx, UserWarning)\n",
            "/usr/local/lib/python3.7/dist-packages/sklearn/feature_selection/_univariate_selection.py:113: RuntimeWarning: invalid value encountered in true_divide\n",
            "  f = msb / msw\n"
          ]
        }
      ],
      "source": [
        "# Such a large set of features can cause overfitting and also slow computing\n",
        "# Use feature selection to select the most important features\n",
        "import sklearn.feature_selection\n",
        "\n",
        "select = sklearn.feature_selection.SelectKBest(k=20)\n",
        "selected_features = select.fit(X_train, y_train)\n",
        "indices_selected = selected_features.get_support(indices=True)\n",
        "colnames_selected = [X.columns[i] for i in indices_selected]\n",
        "\n",
        "X_train_selected = X_train[colnames_selected]\n",
        "X_test_selected = X_test[colnames_selected]"
      ]
    },
    {
      "cell_type": "code",
      "execution_count": 38,
      "metadata": {
        "colab": {
          "base_uri": "https://localhost:8080/"
        },
        "id": "PW95hCVVH_Id",
        "outputId": "7f49d765-b194-48a6-c8ef-97fc4a6b4f00"
      },
      "outputs": [
        {
          "output_type": "stream",
          "name": "stdout",
          "text": [
            "['marital_status_Married-civ-spouse', 'marital_status_Never-married', 'relationship_Husband', 'age_education_num', 'age_hours_per_week', 'age_marital_status_Married-civ-spouse', 'age_relationship_Husband', 'fnlwgt_marital_status_Married-civ-spouse', 'education_num_hours_per_week', 'education_num_marital_status_Married-civ-spouse', 'education_num_relationship_Husband', 'hours_per_week_marital_status_Married-civ-spouse', 'hours_per_week_relationship_Husband', 'marital_status_Married-civ-spouse_relationship_Husband', 'marital_status_Married-civ-spouse_race_White', 'marital_status_Married-civ-spouse_sex_Male', 'marital_status_Married-civ-spouse_native_country_United-States ', 'relationship_Husband_race_White', 'relationship_Husband_sex_Male', 'relationship_Husband_native_country_United-States ']\n"
          ]
        }
      ],
      "source": [
        "print(colnames_selected)"
      ]
    },
    {
      "cell_type": "code",
      "execution_count": 39,
      "metadata": {
        "collapsed": true,
        "id": "y31bbawDH_Id"
      },
      "outputs": [],
      "source": [
        "# Function to build model and find model performance\n",
        "from sklearn.linear_model import LogisticRegression\n",
        "from sklearn.metrics import roc_auc_score\n",
        "\n",
        "def find_model_perf(X_train, y_train, X_test, y_test):\n",
        "    model = LogisticRegression()\n",
        "    model.fit(X_train, y_train)\n",
        "    y_hat = [x[1] for x in model.predict_proba(X_test)]\n",
        "    auc = roc_auc_score(y_test, y_hat)\n",
        "    \n",
        "    return auc"
      ]
    },
    {
      "cell_type": "code",
      "execution_count": 40,
      "metadata": {
        "colab": {
          "base_uri": "https://localhost:8080/"
        },
        "id": "A_V4fLyVH_Id",
        "outputId": "e085b84e-8740-415e-c108-6c565205582f"
      },
      "outputs": [
        {
          "output_type": "stream",
          "name": "stdout",
          "text": [
            "0.7100513514786795\n"
          ]
        },
        {
          "output_type": "stream",
          "name": "stderr",
          "text": [
            "/usr/local/lib/python3.7/dist-packages/sklearn/linear_model/_logistic.py:818: ConvergenceWarning: lbfgs failed to converge (status=1):\n",
            "STOP: TOTAL NO. of ITERATIONS REACHED LIMIT.\n",
            "\n",
            "Increase the number of iterations (max_iter) or scale the data as shown in:\n",
            "    https://scikit-learn.org/stable/modules/preprocessing.html\n",
            "Please also refer to the documentation for alternative solver options:\n",
            "    https://scikit-learn.org/stable/modules/linear_model.html#logistic-regression\n",
            "  extra_warning_msg=_LOGISTIC_SOLVER_CONVERGENCE_MSG,\n"
          ]
        }
      ],
      "source": [
        "# Find performance of model using preprocessed data\n",
        "auc_processed = find_model_perf(X_train_selected, y_train, X_test_selected, y_test)\n",
        "print(auc_processed)"
      ]
    },
    {
      "cell_type": "markdown",
      "metadata": {
        "id": "3kH8bR5_H_Id"
      },
      "source": [
        "### Build model using unprocessed data"
      ]
    },
    {
      "cell_type": "code",
      "execution_count": 41,
      "metadata": {
        "colab": {
          "base_uri": "https://localhost:8080/"
        },
        "id": "5AKi81nPH_Id",
        "outputId": "184a3ce7-9d24-45eb-96ee-c1f3da70f533"
      },
      "outputs": [
        {
          "output_type": "stream",
          "name": "stdout",
          "text": [
            "(5000, 15)\n",
            "(4496, 15)\n"
          ]
        }
      ],
      "source": [
        "# Drop missing values so model does not throw any error\n",
        "df_unprocessed = df\n",
        "df_unprocessed = df_unprocessed.dropna(axis=0, how='any')\n",
        "print(df.shape)\n",
        "print(df_unprocessed.shape)"
      ]
    },
    {
      "cell_type": "code",
      "execution_count": 42,
      "metadata": {
        "colab": {
          "base_uri": "https://localhost:8080/"
        },
        "collapsed": true,
        "id": "yzKfNui-H_Id",
        "outputId": "33748d1f-b725-44d5-b1af-920d1057ba34"
      },
      "outputs": [
        {
          "output_type": "stream",
          "name": "stderr",
          "text": [
            "/usr/local/lib/python3.7/dist-packages/ipykernel_launcher.py:4: FutureWarning: In a future version of pandas all arguments of DataFrame.drop except for the argument 'labels' will be keyword-only\n",
            "  after removing the cwd from sys.path.\n"
          ]
        }
      ],
      "source": [
        "# Remove non-numeric columns so model does not throw an error\n",
        "for col_name in df_unprocessed.columns:\n",
        "    if df_unprocessed[col_name].dtypes not in ['int32','int64','float32','float64']:\n",
        "        df_unprocessed = df_unprocessed.drop(col_name, 1)"
      ]
    },
    {
      "cell_type": "code",
      "execution_count": 43,
      "metadata": {
        "colab": {
          "base_uri": "https://localhost:8080/"
        },
        "collapsed": true,
        "id": "ZZWKAqYgH_Id",
        "outputId": "490e0b47-c27b-4106-8f61-36b665b01f09"
      },
      "outputs": [
        {
          "output_type": "stream",
          "name": "stderr",
          "text": [
            "/usr/local/lib/python3.7/dist-packages/ipykernel_launcher.py:2: FutureWarning: In a future version of pandas all arguments of DataFrame.drop except for the argument 'labels' will be keyword-only\n",
            "  \n"
          ]
        }
      ],
      "source": [
        "# Split into features and outcomes\n",
        "X_unprocessed = df_unprocessed.drop('income', 1)\n",
        "y_unprocessed = df_unprocessed.income"
      ]
    },
    {
      "cell_type": "code",
      "execution_count": 44,
      "metadata": {
        "colab": {
          "base_uri": "https://localhost:8080/"
        },
        "id": "jGgBnIBcH_Ie",
        "outputId": "a1f387fb-9f12-4d8c-ce9c-ed60aa6d54ed"
      },
      "outputs": [
        {
          "output_type": "stream",
          "name": "stdout",
          "text": [
            "    age    fnlwgt  education_num  capital_gain  capital_loss  hours_per_week\n",
            "0  39.0   77516.0           13.0          2174             0              40\n",
            "1  50.0   83311.0           13.0             0             0              13\n",
            "2  38.0  215646.0            9.0             0             0              40\n",
            "4  28.0  338409.0           13.0             0             0              40\n",
            "5  37.0  284582.0           14.0             0             0              40\n"
          ]
        }
      ],
      "source": [
        "# Take a look again at what the unprocessed feature set looks like\n",
        "print(X_unprocessed.head(5))\n"
      ]
    },
    {
      "cell_type": "code",
      "execution_count": 45,
      "metadata": {
        "colab": {
          "base_uri": "https://localhost:8080/"
        },
        "id": "K_FcLcIsH_Ie",
        "outputId": "20a9dd53-18fd-4ff0-ee0f-066f8e0bcca1"
      },
      "outputs": [
        {
          "output_type": "stream",
          "name": "stdout",
          "text": [
            "0.6119711042311662\n"
          ]
        }
      ],
      "source": [
        "# Split unprocessed data into train and test set\n",
        "# Build model and assess performance\n",
        "X_train_unprocessed, X_test_unprocessed, y_train, y_test = train_test_split(\n",
        "    X_unprocessed, y_unprocessed, train_size=0.70, random_state=1)\n",
        "\n",
        "auc_unprocessed = find_model_perf(X_train_unprocessed, y_train, X_test_unprocessed, y_test)\n",
        "print(auc_unprocessed)"
      ]
    },
    {
      "cell_type": "code",
      "execution_count": 46,
      "metadata": {
        "colab": {
          "base_uri": "https://localhost:8080/"
        },
        "id": "NdTTI6_HH_Ie",
        "outputId": "c060787c-1fd9-4ddd-f2c5-7d39c066c228"
      },
      "outputs": [
        {
          "output_type": "stream",
          "name": "stdout",
          "text": [
            "AUC of model with data preprocessing: 0.7100513514786795\n",
            "AUC of model with data without preprocessing: 0.6119711042311662\n",
            "Model improvement of preprocessing: 16.02694090773025%\n"
          ]
        }
      ],
      "source": [
        "# Compare model performance\n",
        "print('AUC of model with data preprocessing: {auc}'.format(auc=auc_processed))\n",
        "print('AUC of model with data without preprocessing: {auc}'.format(auc=auc_unprocessed))\n",
        "per_improve = ((auc_processed-auc_unprocessed)/auc_unprocessed)*100\n",
        "print('Model improvement of preprocessing: {per_improve}%'.format(per_improve = per_improve))"
      ]
    },
    {
      "cell_type": "markdown",
      "source": [
        "## CROSS VALIDATION KFOLD"
      ],
      "metadata": {
        "id": "w83Nz9wdGM2Y"
      }
    },
    {
      "cell_type": "code",
      "source": [
        "from sklearn.dummy import DummyClassifier\n",
        "from sklearn.model_selection import RepeatedStratifiedKFold\n",
        "from sklearn.model_selection import cross_val_score\n",
        "\n",
        "model =DummyClassifier(strategy='most_frequent')\n",
        "\n",
        "#pipeline = Pipeline(steps=[('imp', SimpleImputer(strategy='median')),('s',MinMaxScaler()),('m', model)]) \n",
        "\n",
        "cv = RepeatedStratifiedKFold(n_splits=10, n_repeats=3, random_state=42)\n",
        "\n",
        "result = cross_val_score(model, X, y,  scoring='accuracy',cv=cv, n_jobs=-1)\n",
        "\n",
        "print(f'{round(np.mean(result),6)}')"
      ],
      "metadata": {
        "colab": {
          "base_uri": "https://localhost:8080/"
        },
        "id": "FwghsVQnGQEm",
        "outputId": "98eca3b9-cd59-4163-90dd-a9b991ccbcb1"
      },
      "execution_count": 47,
      "outputs": [
        {
          "output_type": "stream",
          "name": "stdout",
          "text": [
            "0.7558\n"
          ]
        }
      ]
    },
    {
      "cell_type": "markdown",
      "source": [
        "## ROC CURVE"
      ],
      "metadata": {
        "id": "RDrIDD02_wQ-"
      }
    },
    {
      "cell_type": "code",
      "source": [
        "#stupid test // you must change variable name \n",
        "from sklearn.pipeline import make_pipeline\n",
        "from sklearn.preprocessing import MinMaxScaler\n",
        "from sklearn.metrics import roc_curve\n",
        "from sklearn.metrics import auc\n",
        "\n",
        "pipeline = make_pipeline(MinMaxScaler(), LogisticRegression(solver='liblinear'))\n",
        "\n",
        "pipeline.fit(X, y)\n",
        "probs = pipeline.predict_proba(X)\n",
        "fpr1, tpr1, thresholds = roc_curve(y, probs[:, 1], pos_label=1)\n",
        "roc_auc1 = auc(fpr1, tpr1)\n",
        "\n",
        "\n",
        "fig, ax = plt.subplots(figsize=(7.5, 7.5))\n",
        " \n",
        "plt.plot(fpr1, tpr1, label='ROC Curve 1 (AUC = %0.2f)' % (roc_auc1))\n",
        "plt.plot([0, 1], [0, 1], linestyle='--', color='red', label='Random Classifier')   \n",
        "plt.plot([0, 0, 1], [0, 1, 1], linestyle=':', color='green', label='Perfect Classifier')\n",
        "plt.xlim([-0.05, 1.05])\n",
        "plt.ylim([-0.05, 1.05])\n",
        "plt.xlabel('False positive rate')\n",
        "plt.ylabel('True positive rate')\n",
        "plt.legend(loc=\"lower right\")\n",
        "plt.show()"
      ],
      "metadata": {
        "id": "zNnI7KzmH4E0",
        "colab": {
          "base_uri": "https://localhost:8080/",
          "height": 470
        },
        "outputId": "130c001a-3c28-42da-f3c6-ab6d84d8088d"
      },
      "execution_count": 48,
      "outputs": [
        {
          "output_type": "display_data",
          "data": {
            "text/plain": [
              "<Figure size 540x540 with 1 Axes>"
            ],
            "image/png": "[encoded data removed]"
          },
          "metadata": {
            "needs_background": "light"
          }
        }
      ]
    },
    {
      "cell_type": "markdown",
      "source": [
        "# all algo test"
      ],
      "metadata": {
        "id": "C1hb8CsAIwLs"
      }
    },
    {
      "cell_type": "code",
      "source": [
        "#Common Model Algorithms\n",
        "from sklearn import svm, tree, linear_model, neighbors, naive_bayes, ensemble, discriminant_analysis, gaussian_process\n",
        "from xgboost import XGBClassifier\n",
        "\n",
        "#Common Model Helpers\n",
        "from sklearn.preprocessing import OneHotEncoder, LabelEncoder\n",
        "from sklearn import feature_selection\n",
        "from sklearn import model_selection\n",
        "from sklearn import metrics\n",
        "\n",
        "#Visualization\n",
        "import matplotlib as mpl\n",
        "import matplotlib.pyplot as plt\n",
        "import matplotlib.pylab as pylab\n",
        "import seaborn as sns\n"
      ],
      "metadata": {
        "id": "PrZ0O7O6JoZi"
      },
      "execution_count": 49,
      "outputs": []
    },
    {
      "cell_type": "code",
      "source": [
        "#Machine Learning Algorithm (MLA) Selection and Initialization\n",
        "MLA = [\n",
        "    #Ensemble Methods\n",
        "    ensemble.AdaBoostClassifier(),\n",
        "    ensemble.BaggingClassifier(),\n",
        "    ensemble.ExtraTreesClassifier(),\n",
        "    ensemble.GradientBoostingClassifier(),\n",
        "    ensemble.RandomForestClassifier(),\n",
        "\n",
        "    #GLM\n",
        "    linear_model.LogisticRegressionCV(),\n",
        "    linear_model.PassiveAggressiveClassifier(),\n",
        "    linear_model.RidgeClassifierCV(),\n",
        "    linear_model.SGDClassifier(),\n",
        "    linear_model.Perceptron(),\n",
        "    \n",
        "    #Navies Bayes\n",
        "    naive_bayes.BernoulliNB(),\n",
        "    naive_bayes.GaussianNB(),\n",
        "    \n",
        "    #Nearest Neighbor\n",
        "    neighbors.KNeighborsClassifier(),\n",
        "    \n",
        "    ]\n",
        "\n",
        "#split dataset in cross-validation with this splitter class: http://scikit-learn.org/stable/modules/generated/sklearn.model_selection.ShuffleSplit.html#sklearn.model_selection.ShuffleSplit\n",
        "#note: this is an alternative to train_test_split\n",
        "cv_split = model_selection.ShuffleSplit(n_splits = 10, test_size = .3, train_size = .6, random_state = 0 ) # run model 10x with 60/30 split intentionally leaving out 10%\n",
        "\n",
        "#create table to compare MLA metrics\n",
        "MLA_columns = ['MLA Name', 'MLA Parameters','MLA Train Accuracy Mean', 'MLA Test Accuracy Mean', 'MLA Test Accuracy 3*STD' ,'MLA Time']\n",
        "MLA_compare = pd.DataFrame(columns = MLA_columns)\n",
        "col_num=['age','fnlwgt' , 'education_num' , 'capital_gain'  ,'capital_loss' , 'hours_per_week']\n",
        "#create table to compare MLA predictions\n",
        "MLA_predict = df_unprocessed['income']\n",
        "\n",
        "#index through MLA and save performance to table\n",
        "row_index = 0\n",
        "for alg in MLA:\n",
        "    print(row_index)\n",
        "\n",
        "    #set name and parameters\n",
        "    MLA_name = alg.__class__.__name__\n",
        "    MLA_compare.loc[row_index, 'MLA Name'] = MLA_name\n",
        "    MLA_compare.loc[row_index, 'MLA Parameters'] = str(alg.get_params())\n",
        "    #score model with cross validation: http://scikit-learn.org/stable/modules/generated/sklearn.model_selection.cross_validate.html#sklearn.model_selection.cross_validate\n",
        "    cv_results = model_selection.cross_validate(alg, df_unprocessed[col_num], df_unprocessed['income'], cv  = cv_split)\n",
        "\n",
        "    MLA_compare.loc[row_index, 'MLA Time'] = cv_results['fit_time'].mean()\n",
        "    #?????????????\n",
        "    #MLA_compare.loc[row_index, 'MLA Train Accuracy Mean'] = cv_results['train_score'].mean()\n",
        "    MLA_compare.loc[row_index, 'MLA Test Accuracy Mean'] = cv_results['test_score'].mean()   \n",
        "    #if this is a non-bias random sample, then +/-3 standard deviations (std) from the mean, should statistically capture 99.7% of the subsets\n",
        "    MLA_compare.loc[row_index, 'MLA Test Accuracy 3*STD'] = cv_results['test_score'].std()*3   #let's know the worst that can happen!\n",
        "    \n",
        "\n",
        "    #save MLA predictions - see section 6 for usage\n",
        "    alg.fit(df_unprocessed[col_num], df_unprocessed['income'])\n",
        "    MLA_predict[MLA_name] = alg.predict(df_unprocessed[col_num])\n",
        "    \n",
        "    row_index+=1\n",
        "\n",
        "    \n",
        "#print and sort table: https://pandas.pydata.org/pandas-docs/stable/generated/pandas.DataFrame.sort_values.html\n",
        "MLA_compare.sort_values(by = ['MLA Test Accuracy Mean'], ascending = False, inplace = True)\n",
        "MLA_compare\n",
        "#MLA_predict\n",
        "\n"
      ],
      "metadata": {
        "colab": {
          "base_uri": "https://localhost:8080/",
          "height": 862
        },
        "id": "iLvD1RNdIzLo",
        "outputId": "ec6122e3-8f9a-4cf3-a189-86907a67dd1b"
      },
      "execution_count": 50,
      "outputs": [
        {
          "output_type": "stream",
          "name": "stdout",
          "text": [
            "0\n"
          ]
        },
        {
          "output_type": "stream",
          "name": "stderr",
          "text": [
            "/usr/local/lib/python3.7/dist-packages/ipykernel_launcher.py:59: SettingWithCopyWarning: \n",
            "A value is trying to be set on a copy of a slice from a DataFrame\n",
            "\n",
            "See the caveats in the documentation: https://pandas.pydata.org/pandas-docs/stable/user_guide/indexing.html#returning-a-view-versus-a-copy\n"
          ]
        },
        {
          "output_type": "stream",
          "name": "stdout",
          "text": [
            "1\n",
            "2\n",
            "3\n",
            "4\n",
            "5\n",
            "6\n",
            "7\n",
            "8\n",
            "9\n",
            "10\n",
            "11\n",
            "12\n"
          ]
        },
        {
          "output_type": "execute_result",
          "data": {
            "text/plain": [
              "                       MLA Name  \\\n",
              "3    GradientBoostingClassifier   \n",
              "0            AdaBoostClassifier   \n",
              "4        RandomForestClassifier   \n",
              "1             BaggingClassifier   \n",
              "2          ExtraTreesClassifier   \n",
              "11                   GaussianNB   \n",
              "5          LogisticRegressionCV   \n",
              "7             RidgeClassifierCV   \n",
              "10                  BernoulliNB   \n",
              "12         KNeighborsClassifier   \n",
              "8                 SGDClassifier   \n",
              "6   PassiveAggressiveClassifier   \n",
              "9                    Perceptron   \n",
              "\n",
              "                                       MLA Parameters MLA Train Accuracy Mean  \\\n",
              "3   {'ccp_alpha': 0.0, 'criterion': 'friedman_mse'...                     NaN   \n",
              "0   {'algorithm': 'SAMME.R', 'base_estimator': Non...                     NaN   \n",
              "4   {'bootstrap': True, 'ccp_alpha': 0.0, 'class_w...                     NaN   \n",
              "1   {'base_estimator': None, 'bootstrap': True, 'b...                     NaN   \n",
              "2   {'bootstrap': False, 'ccp_alpha': 0.0, 'class_...                     NaN   \n",
              "11           {'priors': None, 'var_smoothing': 1e-09}                     NaN   \n",
              "5   {'Cs': 10, 'class_weight': None, 'cv': None, '...                     NaN   \n",
              "7   {'alphas': array([ 0.1,  1. , 10. ]), 'class_w...                     NaN   \n",
              "10  {'alpha': 1.0, 'binarize': 0.0, 'class_prior':...                     NaN   \n",
              "12  {'algorithm': 'auto', 'leaf_size': 30, 'metric...                     NaN   \n",
              "8   {'alpha': 0.0001, 'average': False, 'class_wei...                     NaN   \n",
              "6   {'C': 1.0, 'average': False, 'class_weight': N...                     NaN   \n",
              "9   {'alpha': 0.0001, 'class_weight': None, 'early...                     NaN   \n",
              "\n",
              "   MLA Test Accuracy Mean MLA Test Accuracy 3*STD  MLA Time  \n",
              "3                0.827576                0.020484  0.271504  \n",
              "0                0.824907                0.023636  0.135011  \n",
              "4                0.814381                0.016529  0.342268  \n",
              "1                0.806968                0.025379    0.0637  \n",
              "2                0.804077                0.023304  0.263811  \n",
              "11               0.794514                  0.0247  0.003075  \n",
              "5                0.792291                0.026646  0.308938  \n",
              "7                0.791475                0.021145  0.013374  \n",
              "10               0.771534                0.027269   0.00449  \n",
              "12               0.755967                0.041602  0.004833  \n",
              "8                0.725723                0.486728   0.02038  \n",
              "6                 0.72083                0.471106  0.007232  \n",
              "9                0.674055                0.634964  0.006631  "
            ],
            "text/html": [
              "\n",
              "  <div id=\"df-c0263e95-0724-49d5-90e6-fba5fdaff018\">\n",
              "    <div class=\"colab-df-container\">\n",
              "      <div>\n",
              "<style scoped>\n",
              "    .dataframe tbody tr th:only-of-type {\n",
              "        vertical-align: middle;\n",
              "    }\n",
              "\n",
              "    .dataframe tbody tr th {\n",
              "        vertical-align: top;\n",
              "    }\n",
              "\n",
              "    .dataframe thead th {\n",
              "        text-align: right;\n",
              "    }\n",
              "</style>\n",
              "<table border=\"1\" class=\"dataframe\">\n",
              "  <thead>\n",
              "    <tr style=\"text-align: right;\">\n",
              "      <th></th>\n",
              "      <th>MLA Name</th>\n",
              "      <th>MLA Parameters</th>\n",
              "      <th>MLA Train Accuracy Mean</th>\n",
              "      <th>MLA Test Accuracy Mean</th>\n",
              "      <th>MLA Test Accuracy 3*STD</th>\n",
              "      <th>MLA Time</th>\n",
              "    </tr>\n",
              "  </thead>\n",
              "  <tbody>\n",
              "    <tr>\n",
              "      <th>3</th>\n",
              "      <td>GradientBoostingClassifier</td>\n",
              "      <td>{'ccp_alpha': 0.0, 'criterion': 'friedman_mse'...</td>\n",
              "      <td>NaN</td>\n",
              "      <td>0.827576</td>\n",
              "      <td>0.020484</td>\n",
              "      <td>0.271504</td>\n",
              "    </tr>\n",
              "    <tr>\n",
              "      <th>0</th>\n",
              "      <td>AdaBoostClassifier</td>\n",
              "      <td>{'algorithm': 'SAMME.R', 'base_estimator': Non...</td>\n",
              "      <td>NaN</td>\n",
              "      <td>0.824907</td>\n",
              "      <td>0.023636</td>\n",
              "      <td>0.135011</td>\n",
              "    </tr>\n",
              "    <tr>\n",
              "      <th>4</th>\n",
              "      <td>RandomForestClassifier</td>\n",
              "      <td>{'bootstrap': True, 'ccp_alpha': 0.0, 'class_w...</td>\n",
              "      <td>NaN</td>\n",
              "      <td>0.814381</td>\n",
              "      <td>0.016529</td>\n",
              "      <td>0.342268</td>\n",
              "    </tr>\n",
              "    <tr>\n",
              "      <th>1</th>\n",
              "      <td>BaggingClassifier</td>\n",
              "      <td>{'base_estimator': None, 'bootstrap': True, 'b...</td>\n",
              "      <td>NaN</td>\n",
              "      <td>0.806968</td>\n",
              "      <td>0.025379</td>\n",
              "      <td>0.0637</td>\n",
              "    </tr>\n",
              "    <tr>\n",
              "      <th>2</th>\n",
              "      <td>ExtraTreesClassifier</td>\n",
              "      <td>{'bootstrap': False, 'ccp_alpha': 0.0, 'class_...</td>\n",
              "      <td>NaN</td>\n",
              "      <td>0.804077</td>\n",
              "      <td>0.023304</td>\n",
              "      <td>0.263811</td>\n",
              "    </tr>\n",
              "    <tr>\n",
              "      <th>11</th>\n",
              "      <td>GaussianNB</td>\n",
              "      <td>{'priors': None, 'var_smoothing': 1e-09}</td>\n",
              "      <td>NaN</td>\n",
              "      <td>0.794514</td>\n",
              "      <td>0.0247</td>\n",
              "      <td>0.003075</td>\n",
              "    </tr>\n",
              "    <tr>\n",
              "      <th>5</th>\n",
              "      <td>LogisticRegressionCV</td>\n",
              "      <td>{'Cs': 10, 'class_weight': None, 'cv': None, '...</td>\n",
              "      <td>NaN</td>\n",
              "      <td>0.792291</td>\n",
              "      <td>0.026646</td>\n",
              "      <td>0.308938</td>\n",
              "    </tr>\n",
              "    <tr>\n",
              "      <th>7</th>\n",
              "      <td>RidgeClassifierCV</td>\n",
              "      <td>{'alphas': array([ 0.1,  1. , 10. ]), 'class_w...</td>\n",
              "      <td>NaN</td>\n",
              "      <td>0.791475</td>\n",
              "      <td>0.021145</td>\n",
              "      <td>0.013374</td>\n",
              "    </tr>\n",
              "    <tr>\n",
              "      <th>10</th>\n",
              "      <td>BernoulliNB</td>\n",
              "      <td>{'alpha': 1.0, 'binarize': 0.0, 'class_prior':...</td>\n",
              "      <td>NaN</td>\n",
              "      <td>0.771534</td>\n",
              "      <td>0.027269</td>\n",
              "      <td>0.00449</td>\n",
              "    </tr>\n",
              "    <tr>\n",
              "      <th>12</th>\n",
              "      <td>KNeighborsClassifier</td>\n",
              "      <td>{'algorithm': 'auto', 'leaf_size': 30, 'metric...</td>\n",
              "      <td>NaN</td>\n",
              "      <td>0.755967</td>\n",
              "      <td>0.041602</td>\n",
              "      <td>0.004833</td>\n",
              "    </tr>\n",
              "    <tr>\n",
              "      <th>8</th>\n",
              "      <td>SGDClassifier</td>\n",
              "      <td>{'alpha': 0.0001, 'average': False, 'class_wei...</td>\n",
              "      <td>NaN</td>\n",
              "      <td>0.725723</td>\n",
              "      <td>0.486728</td>\n",
              "      <td>0.02038</td>\n",
              "    </tr>\n",
              "    <tr>\n",
              "      <th>6</th>\n",
              "      <td>PassiveAggressiveClassifier</td>\n",
              "      <td>{'C': 1.0, 'average': False, 'class_weight': N...</td>\n",
              "      <td>NaN</td>\n",
              "      <td>0.72083</td>\n",
              "      <td>0.471106</td>\n",
              "      <td>0.007232</td>\n",
              "    </tr>\n",
              "    <tr>\n",
              "      <th>9</th>\n",
              "      <td>Perceptron</td>\n",
              "      <td>{'alpha': 0.0001, 'class_weight': None, 'early...</td>\n",
              "      <td>NaN</td>\n",
              "      <td>0.674055</td>\n",
              "      <td>0.634964</td>\n",
              "      <td>0.006631</td>\n",
              "    </tr>\n",
              "  </tbody>\n",
              "</table>\n",
              "</div>\n",
              "      <button class=\"colab-df-convert\" onclick=\"convertToInteractive('df-c0263e95-0724-49d5-90e6-fba5fdaff018')\"\n",
              "              title=\"Convert this dataframe to an interactive table.\"\n",
              "              style=\"display:none;\">\n",
              "        \n",
              "  <svg xmlns=\"http://www.w3.org/2000/svg\" height=\"24px\"viewBox=\"0 0 24 24\"\n",
              "       width=\"24px\">\n",
              "    <path d=\"M0 0h24v24H0V0z\" fill=\"none\"/>\n",
              "    <path d=\"M18.56 5.44l.94 2.06.94-2.06 2.06-.94-2.06-.94-.94-2.06-.94 2.06-2.06.94zm-11 1L8.5 8.5l.94-2.06 2.06-.94-2.06-.94L8.5 2.5l-.94 2.06-2.06.94zm10 10l.94 2.06.94-2.06 2.06-.94-2.06-.94-.94-2.06-.94 2.06-2.06.94z\"/><path d=\"M17.41 7.96l-1.37-1.37c-.4-.4-.92-.59-1.43-.59-.52 0-1.04.2-1.43.59L10.3 9.45l-7.72 7.72c-.78.78-.78 2.05 0 2.83L4 21.41c.39.39.9.59 1.41.59.51 0 1.02-.2 1.41-.59l7.78-7.78 2.81-2.81c.8-.78.8-2.07 0-2.86zM5.41 20L4 18.59l7.72-7.72 1.47 1.35L5.41 20z\"/>\n",
              "  </svg>\n",
              "      </button>\n",
              "      \n",
              "  <style>\n",
              "    .colab-df-container {\n",
              "      display:flex;\n",
              "      flex-wrap:wrap;\n",
              "      gap: 12px;\n",
              "    }\n",
              "\n",
              "    .colab-df-convert {\n",
              "      background-color: #E8F0FE;\n",
              "      border: none;\n",
              "      border-radius: 50%;\n",
              "      cursor: pointer;\n",
              "      display: none;\n",
              "      fill: #1967D2;\n",
              "      height: 32px;\n",
              "      padding: 0 0 0 0;\n",
              "      width: 32px;\n",
              "    }\n",
              "\n",
              "    .colab-df-convert:hover {\n",
              "      background-color: #E2EBFA;\n",
              "      box-shadow: 0px 1px 2px rgba(60, 64, 67, 0.3), 0px 1px 3px 1px rgba(60, 64, 67, 0.15);\n",
              "      fill: #174EA6;\n",
              "    }\n",
              "\n",
              "    [theme=dark] .colab-df-convert {\n",
              "      background-color: #3B4455;\n",
              "      fill: #D2E3FC;\n",
              "    }\n",
              "\n",
              "    [theme=dark] .colab-df-convert:hover {\n",
              "      background-color: #434B5C;\n",
              "      box-shadow: 0px 1px 3px 1px rgba(0, 0, 0, 0.15);\n",
              "      filter: drop-shadow(0px 1px 2px rgba(0, 0, 0, 0.3));\n",
              "      fill: #FFFFFF;\n",
              "    }\n",
              "  </style>\n",
              "\n",
              "      <script>\n",
              "        const buttonEl =\n",
              "          document.querySelector('#df-c0263e95-0724-49d5-90e6-fba5fdaff018 button.colab-df-convert');\n",
              "        buttonEl.style.display =\n",
              "          google.colab.kernel.accessAllowed ? 'block' : 'none';\n",
              "\n",
              "        async function convertToInteractive(key) {\n",
              "          const element = document.querySelector('#df-c0263e95-0724-49d5-90e6-fba5fdaff018');\n",
              "          const dataTable =\n",
              "            await google.colab.kernel.invokeFunction('convertToInteractive',\n",
              "                                                     [key], {});\n",
              "          if (!dataTable) return;\n",
              "\n",
              "          const docLinkHtml = 'Like what you see? Visit the ' +\n",
              "            '<a target=\"_blank\" href=https://colab.research.google.com/notebooks/data_table.ipynb>data table notebook</a>'\n",
              "            + ' to learn more about interactive tables.';\n",
              "          element.innerHTML = '';\n",
              "          dataTable['output_type'] = 'display_data';\n",
              "          await google.colab.output.renderOutput(dataTable, element);\n",
              "          const docLink = document.createElement('div');\n",
              "          docLink.innerHTML = docLinkHtml;\n",
              "          element.appendChild(docLink);\n",
              "        }\n",
              "      </script>\n",
              "    </div>\n",
              "  </div>\n",
              "  "
            ]
          },
          "metadata": {},
          "execution_count": 50
        }
      ]
    }
  ],
  "metadata": {
    "colab": {
      "collapsed_sections": [],
      "name": "adult:roc+cross+algos.ipynb",
      "provenance": []
    },
    "kernelspec": {
      "display_name": "Python 3",
      "language": "python",
      "name": "python3"
    },
    "language_info": {
      "codemirror_mode": {
        "name": "ipython",
        "version": 3
      },
      "file_extension": ".py",
      "mimetype": "text/x-python",
      "name": "python",
      "nbconvert_exporter": "python",
      "pygments_lexer": "ipython3",
      "version": "3.5.1"
    }
  },
  "nbformat": 4,
  "nbformat_minor": 0
}